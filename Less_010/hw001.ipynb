{
  "nbformat": 4,
  "nbformat_minor": 0,
  "metadata": {
    "colab": {
      "provenance": [],
      "authorship_tag": "ABX9TyPb40VBWclt8yEOPObOGt94"
    },
    "kernelspec": {
      "name": "python3",
      "display_name": "Python 3"
    },
    "language_info": {
      "name": "python"
    }
  },
  "cells": [
    {
      "cell_type": "code",
      "execution_count": 25,
      "metadata": {
        "colab": {
          "base_uri": "https://localhost:8080/"
        },
        "id": "Nnm3gKQlnSmr",
        "outputId": "7f432055-a413-45c6-c8bf-a0c26376c0f4"
      },
      "outputs": [
        {
          "output_type": "stream",
          "name": "stdout",
          "text": [
            "   whoAmI\n",
            "0   human\n",
            "1   human\n",
            "2   robot\n",
            "3   robot\n",
            "4   human\n",
            "5   robot\n",
            "6   human\n",
            "7   human\n",
            "8   human\n",
            "9   human\n",
            "10  robot\n",
            "11  human\n",
            "12  robot\n",
            "13  robot\n",
            "14  robot\n",
            "15  robot\n",
            "16  robot\n",
            "17  human\n",
            "18  human\n",
            "19  robot\n",
            "\n",
            "Membership table\n",
            "    human  robot\n",
            "0       1      0\n",
            "1       1      0\n",
            "2       0      1\n",
            "3       0      1\n",
            "4       1      0\n",
            "5       0      1\n",
            "6       1      0\n",
            "7       1      0\n",
            "8       1      0\n",
            "9       1      0\n",
            "10      0      1\n",
            "11      1      0\n",
            "12      0      1\n",
            "13      0      1\n",
            "14      0      1\n",
            "15      0      1\n",
            "16      0      1\n",
            "17      1      0\n",
            "18      1      0\n",
            "19      0      1\n",
            "\n",
            "Membership table\n",
            "     human  robot\n",
            "0       1      0\n",
            "1       1      0\n",
            "2       0      1\n",
            "3       0      1\n",
            "4       1      0\n",
            "5       0      1\n",
            "6       1      0\n",
            "7       1      0\n",
            "8       1      0\n",
            "9       1      0\n",
            "10      0      1\n",
            "11      1      0\n",
            "12      0      1\n",
            "13      0      1\n",
            "14      0      1\n",
            "15      0      1\n",
            "16      0      1\n",
            "17      1      0\n",
            "18      1      0\n",
            "19      0      1\n"
          ]
        }
      ],
      "source": [
        "import pandas as pd\n",
        "import random\n",
        "\n",
        "lst = ['robot'] * 10\n",
        "lst += ['human'] * 10\n",
        "random.shuffle(lst)\n",
        "data = pd.DataFrame({'whoAmI': lst})\n",
        "print(data)\n",
        "\n",
        "\n",
        "#print(f'\\nMembership table\\n{ pd.get_dummies(lst)}')  # Using get_dummies\n",
        "\n",
        "\n",
        "data['temp'] = 1\n",
        "data.set_index([data.index, 'whoAmI'], inplace=True)\n",
        "data = data.unstack(level=-1, fill_value = 0).astype(int)\n",
        "data.columns = data.columns.droplevel()\n",
        "data.columns.name = None\n",
        "print(f'\\nMembership table\\n {data}')"
      ]
    },
    {
      "cell_type": "code",
      "source": [],
      "metadata": {
        "id": "9KswPlCMxHr2"
      },
      "execution_count": null,
      "outputs": []
    }
  ]
}