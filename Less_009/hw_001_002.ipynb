
{
  "nbformat": 4,
  "nbformat_minor": 0,
  "metadata": {
    "colab": {
      "provenance": [],
      "authorship_tag": "ABX9TyNJFo06iyPr0shs6MJt6ACI",
      "include_colab_link": true
    },
    "kernelspec": {
      "name": "python3",
      "display_name": "Python 3"
    },
    "language_info": {
      "name": "python"
    }
  },
  "cells": [
    {
      "cell_type": "markdown",
      "metadata": {
        "id": "view-in-github",
        "colab_type": "text"
      },
      "source": [
        "<a href=\"https://colab.research.google.com/github/Benihimel/Python/blob/master/Less_009/hw_001_002.ipynb\" target=\"_parent\"><img src=\"https://colab.research.google.com/assets/colab-badge.svg\" alt=\"Open In Colab\"/></a>"
      ]
    },
    {
      "cell_type": "code",
      "execution_count": 1,
      "metadata": {
        "id": "rzAXqwm1gQGT"
      },
      "outputs": [],
      "source": [
        "import pandas as pd"
      ]
    },
    {
      "cell_type": "code",
      "source": [
        "df = pd.read_csv('sample_data/california_housing_train.csv')"
      ],
      "metadata": {
        "id": "OlV_ll4vgVfV"
      },
      "execution_count": 2,
      "outputs": []
    },
    {
      "cell_type": "code",
      "source": [
        "ds = df[df['population']<500]\n",
        "print(ds)\n",
        "print(f\"Cредняя стоимость дома, где кол-во людей от 0 до 500 - {ds['median_house_value'].mean()}\")\n",
        "ds.to_csv('task01.csv',index=False)"
      ],
      "metadata": {
        "colab": {
          "base_uri": "https://localhost:8080/"
        },
        "id": "BP-TF_sIhDhK",
        "outputId": "87f884c5-8731-49bd-c1e6-893d33f4ecfa"
      },
      "execution_count": 102,
      "outputs": [
        {
          "output_type": "stream",
          "name": "stdout",
          "text": [
            "       longitude  latitude  housing_median_age  total_rooms  total_bedrooms  \\\n",
            "2        -114.56     33.69                17.0        720.0           174.0   \n",
            "7        -114.59     34.83                41.0        812.0           168.0   \n",
            "17       -114.65     32.79                21.0         44.0            33.0   \n",
            "19       -114.67     33.92                17.0         97.0            24.0   \n",
            "21       -114.73     33.43                24.0        796.0           243.0   \n",
            "...          ...       ...                 ...          ...             ...   \n",
            "16944    -124.14     40.67                23.0        580.0           117.0   \n",
            "16951    -124.15     40.81                50.0        340.0            74.0   \n",
            "16969    -124.17     40.80                52.0        661.0           316.0   \n",
            "16982    -124.18     40.62                35.0        952.0           178.0   \n",
            "16994    -124.25     40.28                32.0       1430.0           419.0   \n",
            "\n",
            "       population  households  median_income  median_house_value  \n",
            "2           333.0       117.0         1.6509             85700.0  \n",
            "7           375.0       158.0         1.7083             48500.0  \n",
            "17           64.0        27.0         0.8571             25000.0  \n",
            "19           29.0        15.0         1.2656             27500.0  \n",
            "21          227.0       139.0         0.8964             59200.0  \n",
            "...           ...         ...            ...                 ...  \n",
            "16944       320.0       109.0         4.2054            130600.0  \n",
            "16951       235.0        83.0         1.7500             67500.0  \n",
            "16969       392.0       244.0         0.9570             60000.0  \n",
            "16982       480.0       179.0         3.0536            107000.0  \n",
            "16994       434.0       187.0         1.9417             76100.0  \n",
            "\n",
            "[1601 rows x 9 columns]\n",
            "Cредняя стоимость дома, где кол-во людей от 0 до 500 - 206683.83635227982\n"
          ]
        }
      ]
    },
    {
      "cell_type": "code",
      "source": [
        "min_population = df['population'].min()\n",
        "print(f\"Min population - {min_population}\")\n",
        "de = df[df['population']<=min_population]\n",
        "print(de)\n",
        "print(f\"Max households - {de['households'].max()}\")\n",
        "de.to_csv('task02.csv',index=False)\n"
      ],
      "metadata": {
        "colab": {
          "base_uri": "https://localhost:8080/"
        },
        "id": "f8DdQWIHoPLv",
        "outputId": "c368182e-0241-46f8-9d7d-73ac83a4b0bd"
      },
      "execution_count": 105,
      "outputs": [
        {
          "output_type": "stream",
          "name": "stdout",
          "text": [
            "Min population - 3.0\n",
            "      longitude  latitude  housing_median_age  total_rooms  total_bedrooms  \\\n",
            "8232    -118.44     34.04                16.0         18.0             6.0   \n",
            "\n",
            "      population  households  median_income  median_house_value  \n",
            "8232         3.0         4.0          0.536            350000.0  \n",
            "Max households - 4.0\n"
          ]
        }
      ]
    },
    {
      "cell_type": "code",
      "source": [],
      "metadata": {
        "id": "HcCkfbJkp1IA"
      },
      "execution_count": null,
      "outputs": []
    }
  ]
}